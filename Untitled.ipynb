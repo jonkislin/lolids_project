{
 "cells": [
  {
   "cell_type": "markdown",
   "metadata": {},
   "source": [
    "# lolids_project\n",
    "Project repository for Metis' Live Online: Intro to Data Science class, Fall 2017\n",
    "\n",
    "UFO Data\n",
    "### What data have been gathered?\n",
    "\n",
    "The data (NUFORC ufo-reports) were gathered from planetsig's ufo-reports github\n",
    "repository: https://github.com/planetsig/ufo-reports via command-line git.\n",
    "\n",
    "### Data Exploration:\n",
    "\n",
    "### Questions to be asked:\n",
    "Are there specific times and places when/where alleged UFO sightings were\n",
    "attested to with more certainty?\n",
    "\n",
    "Operationalized as:\n",
    "Do certain keywords in the notes, such as \"sure\", \"positively\", \"definitely\",\n",
    "\"absolutely\", \"certain\", etc. appear more often in certain geographical locations\n",
    "and decades?\n",
    "\n",
    "### Modeling Approaches\n",
    "- Logistic regression\n"
   ]
  },
  {
   "cell_type": "code",
   "execution_count": null,
   "metadata": {
    "collapsed": true
   },
   "outputs": [],
   "source": []
  }
 ],
 "metadata": {
  "kernelspec": {
   "display_name": "Python 2",
   "language": "python",
   "name": "python2"
  },
  "language_info": {
   "codemirror_mode": {
    "name": "ipython",
    "version": 2
   },
   "file_extension": ".py",
   "mimetype": "text/x-python",
   "name": "python",
   "nbconvert_exporter": "python",
   "pygments_lexer": "ipython2",
   "version": "2.7.13"
  }
 },
 "nbformat": 4,
 "nbformat_minor": 2
}
